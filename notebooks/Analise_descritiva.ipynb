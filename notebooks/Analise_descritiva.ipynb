{
 "cells": [
  {
   "cell_type": "markdown",
   "metadata": {},
   "source": [
    "# Compreensão dos dados\n",
    "\n",
    "Neste notebook vamos fazer forcar na segunda parte do método CRISP-DS."
   ]
  },
  {
   "cell_type": "code",
   "execution_count": 1,
   "metadata": {},
   "outputs": [],
   "source": [
    "# importando bibliotecas\n",
    "\n",
    "# manipulação de dados\n",
    "import pandas as pd # type: ignore\n",
    "import numpy as np # type: ignore\n",
    "\n",
    "# visualização\n",
    "import seaborn as sns # type: ignore\n",
    "import matplotlib.pyplot as plt # type: ignore\n",
    "from IPython.display import HTML # type: ignore\n",
    "import plotly.graph_objects as go # type: ignore\n",
    "\n",
    "# Algumas configurações\n",
    "import warnings\n",
    "warnings.simplefilter(action='ignore', category=FutureWarning)\n",
    "\n"
   ]
  },
  {
   "cell_type": "code",
   "execution_count": 2,
   "metadata": {},
   "outputs": [
    {
     "data": {
      "text/html": [
       "<style>.container { width:100% !important; }</style>"
      ],
      "text/plain": [
       "<IPython.core.display.HTML object>"
      ]
     },
     "metadata": {},
     "output_type": "display_data"
    }
   ],
   "source": [
    "# Configuração para o notebook e plotagem de imagens\n",
    "def jupyter_settings():\n",
    "    %matplotlib inline\n",
    "    plt.style.use('bmh')\n",
    "    plt.rcParams['figure.figsize'] = [25, 12]\n",
    "    plt.rcParams['font.size'] = 24\n",
    "    display(HTML('<style>.container { width:100% !important; }</style>'))\n",
    "    sns.set()\n",
    "\n",
    "jupyter_settings()"
   ]
  },
  {
   "cell_type": "markdown",
   "metadata": {},
   "source": [
    "## 1. Importando o conjunto de dados"
   ]
  },
  {
   "cell_type": "code",
   "execution_count": 4,
   "metadata": {},
   "outputs": [
    {
     "ename": "FileNotFoundError",
     "evalue": "[Errno 2] No such file or directory: './data/Abandono_teste.csv'",
     "output_type": "error",
     "traceback": [
      "\u001b[0;31m---------------------------------------------------------------------------\u001b[0m",
      "\u001b[0;31mFileNotFoundError\u001b[0m                         Traceback (most recent call last)",
      "Cell \u001b[0;32mIn[4], line 1\u001b[0m\n\u001b[0;32m----> 1\u001b[0m df_raw \u001b[38;5;241m=\u001b[39m \u001b[43mpd\u001b[49m\u001b[38;5;241;43m.\u001b[39;49m\u001b[43mread_csv\u001b[49m\u001b[43m(\u001b[49m\u001b[38;5;124;43m'\u001b[39;49m\u001b[38;5;124;43m./data/Abandono_teste.csv\u001b[39;49m\u001b[38;5;124;43m'\u001b[39;49m\u001b[43m,\u001b[49m\u001b[43m \u001b[49m\u001b[43msep\u001b[49m\u001b[38;5;241;43m=\u001b[39;49m\u001b[38;5;124;43m'\u001b[39;49m\u001b[38;5;124;43m,\u001b[39;49m\u001b[38;5;124;43m'\u001b[39;49m\u001b[43m)\u001b[49m \n",
      "File \u001b[0;32m~/miniconda3/lib/python3.12/site-packages/pandas/io/parsers/readers.py:1026\u001b[0m, in \u001b[0;36mread_csv\u001b[0;34m(filepath_or_buffer, sep, delimiter, header, names, index_col, usecols, dtype, engine, converters, true_values, false_values, skipinitialspace, skiprows, skipfooter, nrows, na_values, keep_default_na, na_filter, verbose, skip_blank_lines, parse_dates, infer_datetime_format, keep_date_col, date_parser, date_format, dayfirst, cache_dates, iterator, chunksize, compression, thousands, decimal, lineterminator, quotechar, quoting, doublequote, escapechar, comment, encoding, encoding_errors, dialect, on_bad_lines, delim_whitespace, low_memory, memory_map, float_precision, storage_options, dtype_backend)\u001b[0m\n\u001b[1;32m   1013\u001b[0m kwds_defaults \u001b[38;5;241m=\u001b[39m _refine_defaults_read(\n\u001b[1;32m   1014\u001b[0m     dialect,\n\u001b[1;32m   1015\u001b[0m     delimiter,\n\u001b[0;32m   (...)\u001b[0m\n\u001b[1;32m   1022\u001b[0m     dtype_backend\u001b[38;5;241m=\u001b[39mdtype_backend,\n\u001b[1;32m   1023\u001b[0m )\n\u001b[1;32m   1024\u001b[0m kwds\u001b[38;5;241m.\u001b[39mupdate(kwds_defaults)\n\u001b[0;32m-> 1026\u001b[0m \u001b[38;5;28;01mreturn\u001b[39;00m \u001b[43m_read\u001b[49m\u001b[43m(\u001b[49m\u001b[43mfilepath_or_buffer\u001b[49m\u001b[43m,\u001b[49m\u001b[43m \u001b[49m\u001b[43mkwds\u001b[49m\u001b[43m)\u001b[49m\n",
      "File \u001b[0;32m~/miniconda3/lib/python3.12/site-packages/pandas/io/parsers/readers.py:620\u001b[0m, in \u001b[0;36m_read\u001b[0;34m(filepath_or_buffer, kwds)\u001b[0m\n\u001b[1;32m    617\u001b[0m _validate_names(kwds\u001b[38;5;241m.\u001b[39mget(\u001b[38;5;124m\"\u001b[39m\u001b[38;5;124mnames\u001b[39m\u001b[38;5;124m\"\u001b[39m, \u001b[38;5;28;01mNone\u001b[39;00m))\n\u001b[1;32m    619\u001b[0m \u001b[38;5;66;03m# Create the parser.\u001b[39;00m\n\u001b[0;32m--> 620\u001b[0m parser \u001b[38;5;241m=\u001b[39m \u001b[43mTextFileReader\u001b[49m\u001b[43m(\u001b[49m\u001b[43mfilepath_or_buffer\u001b[49m\u001b[43m,\u001b[49m\u001b[43m \u001b[49m\u001b[38;5;241;43m*\u001b[39;49m\u001b[38;5;241;43m*\u001b[39;49m\u001b[43mkwds\u001b[49m\u001b[43m)\u001b[49m\n\u001b[1;32m    622\u001b[0m \u001b[38;5;28;01mif\u001b[39;00m chunksize \u001b[38;5;129;01mor\u001b[39;00m iterator:\n\u001b[1;32m    623\u001b[0m     \u001b[38;5;28;01mreturn\u001b[39;00m parser\n",
      "File \u001b[0;32m~/miniconda3/lib/python3.12/site-packages/pandas/io/parsers/readers.py:1620\u001b[0m, in \u001b[0;36mTextFileReader.__init__\u001b[0;34m(self, f, engine, **kwds)\u001b[0m\n\u001b[1;32m   1617\u001b[0m     \u001b[38;5;28mself\u001b[39m\u001b[38;5;241m.\u001b[39moptions[\u001b[38;5;124m\"\u001b[39m\u001b[38;5;124mhas_index_names\u001b[39m\u001b[38;5;124m\"\u001b[39m] \u001b[38;5;241m=\u001b[39m kwds[\u001b[38;5;124m\"\u001b[39m\u001b[38;5;124mhas_index_names\u001b[39m\u001b[38;5;124m\"\u001b[39m]\n\u001b[1;32m   1619\u001b[0m \u001b[38;5;28mself\u001b[39m\u001b[38;5;241m.\u001b[39mhandles: IOHandles \u001b[38;5;241m|\u001b[39m \u001b[38;5;28;01mNone\u001b[39;00m \u001b[38;5;241m=\u001b[39m \u001b[38;5;28;01mNone\u001b[39;00m\n\u001b[0;32m-> 1620\u001b[0m \u001b[38;5;28mself\u001b[39m\u001b[38;5;241m.\u001b[39m_engine \u001b[38;5;241m=\u001b[39m \u001b[38;5;28;43mself\u001b[39;49m\u001b[38;5;241;43m.\u001b[39;49m\u001b[43m_make_engine\u001b[49m\u001b[43m(\u001b[49m\u001b[43mf\u001b[49m\u001b[43m,\u001b[49m\u001b[43m \u001b[49m\u001b[38;5;28;43mself\u001b[39;49m\u001b[38;5;241;43m.\u001b[39;49m\u001b[43mengine\u001b[49m\u001b[43m)\u001b[49m\n",
      "File \u001b[0;32m~/miniconda3/lib/python3.12/site-packages/pandas/io/parsers/readers.py:1880\u001b[0m, in \u001b[0;36mTextFileReader._make_engine\u001b[0;34m(self, f, engine)\u001b[0m\n\u001b[1;32m   1878\u001b[0m     \u001b[38;5;28;01mif\u001b[39;00m \u001b[38;5;124m\"\u001b[39m\u001b[38;5;124mb\u001b[39m\u001b[38;5;124m\"\u001b[39m \u001b[38;5;129;01mnot\u001b[39;00m \u001b[38;5;129;01min\u001b[39;00m mode:\n\u001b[1;32m   1879\u001b[0m         mode \u001b[38;5;241m+\u001b[39m\u001b[38;5;241m=\u001b[39m \u001b[38;5;124m\"\u001b[39m\u001b[38;5;124mb\u001b[39m\u001b[38;5;124m\"\u001b[39m\n\u001b[0;32m-> 1880\u001b[0m \u001b[38;5;28mself\u001b[39m\u001b[38;5;241m.\u001b[39mhandles \u001b[38;5;241m=\u001b[39m \u001b[43mget_handle\u001b[49m\u001b[43m(\u001b[49m\n\u001b[1;32m   1881\u001b[0m \u001b[43m    \u001b[49m\u001b[43mf\u001b[49m\u001b[43m,\u001b[49m\n\u001b[1;32m   1882\u001b[0m \u001b[43m    \u001b[49m\u001b[43mmode\u001b[49m\u001b[43m,\u001b[49m\n\u001b[1;32m   1883\u001b[0m \u001b[43m    \u001b[49m\u001b[43mencoding\u001b[49m\u001b[38;5;241;43m=\u001b[39;49m\u001b[38;5;28;43mself\u001b[39;49m\u001b[38;5;241;43m.\u001b[39;49m\u001b[43moptions\u001b[49m\u001b[38;5;241;43m.\u001b[39;49m\u001b[43mget\u001b[49m\u001b[43m(\u001b[49m\u001b[38;5;124;43m\"\u001b[39;49m\u001b[38;5;124;43mencoding\u001b[39;49m\u001b[38;5;124;43m\"\u001b[39;49m\u001b[43m,\u001b[49m\u001b[43m \u001b[49m\u001b[38;5;28;43;01mNone\u001b[39;49;00m\u001b[43m)\u001b[49m\u001b[43m,\u001b[49m\n\u001b[1;32m   1884\u001b[0m \u001b[43m    \u001b[49m\u001b[43mcompression\u001b[49m\u001b[38;5;241;43m=\u001b[39;49m\u001b[38;5;28;43mself\u001b[39;49m\u001b[38;5;241;43m.\u001b[39;49m\u001b[43moptions\u001b[49m\u001b[38;5;241;43m.\u001b[39;49m\u001b[43mget\u001b[49m\u001b[43m(\u001b[49m\u001b[38;5;124;43m\"\u001b[39;49m\u001b[38;5;124;43mcompression\u001b[39;49m\u001b[38;5;124;43m\"\u001b[39;49m\u001b[43m,\u001b[49m\u001b[43m \u001b[49m\u001b[38;5;28;43;01mNone\u001b[39;49;00m\u001b[43m)\u001b[49m\u001b[43m,\u001b[49m\n\u001b[1;32m   1885\u001b[0m \u001b[43m    \u001b[49m\u001b[43mmemory_map\u001b[49m\u001b[38;5;241;43m=\u001b[39;49m\u001b[38;5;28;43mself\u001b[39;49m\u001b[38;5;241;43m.\u001b[39;49m\u001b[43moptions\u001b[49m\u001b[38;5;241;43m.\u001b[39;49m\u001b[43mget\u001b[49m\u001b[43m(\u001b[49m\u001b[38;5;124;43m\"\u001b[39;49m\u001b[38;5;124;43mmemory_map\u001b[39;49m\u001b[38;5;124;43m\"\u001b[39;49m\u001b[43m,\u001b[49m\u001b[43m \u001b[49m\u001b[38;5;28;43;01mFalse\u001b[39;49;00m\u001b[43m)\u001b[49m\u001b[43m,\u001b[49m\n\u001b[1;32m   1886\u001b[0m \u001b[43m    \u001b[49m\u001b[43mis_text\u001b[49m\u001b[38;5;241;43m=\u001b[39;49m\u001b[43mis_text\u001b[49m\u001b[43m,\u001b[49m\n\u001b[1;32m   1887\u001b[0m \u001b[43m    \u001b[49m\u001b[43merrors\u001b[49m\u001b[38;5;241;43m=\u001b[39;49m\u001b[38;5;28;43mself\u001b[39;49m\u001b[38;5;241;43m.\u001b[39;49m\u001b[43moptions\u001b[49m\u001b[38;5;241;43m.\u001b[39;49m\u001b[43mget\u001b[49m\u001b[43m(\u001b[49m\u001b[38;5;124;43m\"\u001b[39;49m\u001b[38;5;124;43mencoding_errors\u001b[39;49m\u001b[38;5;124;43m\"\u001b[39;49m\u001b[43m,\u001b[49m\u001b[43m \u001b[49m\u001b[38;5;124;43m\"\u001b[39;49m\u001b[38;5;124;43mstrict\u001b[39;49m\u001b[38;5;124;43m\"\u001b[39;49m\u001b[43m)\u001b[49m\u001b[43m,\u001b[49m\n\u001b[1;32m   1888\u001b[0m \u001b[43m    \u001b[49m\u001b[43mstorage_options\u001b[49m\u001b[38;5;241;43m=\u001b[39;49m\u001b[38;5;28;43mself\u001b[39;49m\u001b[38;5;241;43m.\u001b[39;49m\u001b[43moptions\u001b[49m\u001b[38;5;241;43m.\u001b[39;49m\u001b[43mget\u001b[49m\u001b[43m(\u001b[49m\u001b[38;5;124;43m\"\u001b[39;49m\u001b[38;5;124;43mstorage_options\u001b[39;49m\u001b[38;5;124;43m\"\u001b[39;49m\u001b[43m,\u001b[49m\u001b[43m \u001b[49m\u001b[38;5;28;43;01mNone\u001b[39;49;00m\u001b[43m)\u001b[49m\u001b[43m,\u001b[49m\n\u001b[1;32m   1889\u001b[0m \u001b[43m\u001b[49m\u001b[43m)\u001b[49m\n\u001b[1;32m   1890\u001b[0m \u001b[38;5;28;01massert\u001b[39;00m \u001b[38;5;28mself\u001b[39m\u001b[38;5;241m.\u001b[39mhandles \u001b[38;5;129;01mis\u001b[39;00m \u001b[38;5;129;01mnot\u001b[39;00m \u001b[38;5;28;01mNone\u001b[39;00m\n\u001b[1;32m   1891\u001b[0m f \u001b[38;5;241m=\u001b[39m \u001b[38;5;28mself\u001b[39m\u001b[38;5;241m.\u001b[39mhandles\u001b[38;5;241m.\u001b[39mhandle\n",
      "File \u001b[0;32m~/miniconda3/lib/python3.12/site-packages/pandas/io/common.py:873\u001b[0m, in \u001b[0;36mget_handle\u001b[0;34m(path_or_buf, mode, encoding, compression, memory_map, is_text, errors, storage_options)\u001b[0m\n\u001b[1;32m    868\u001b[0m \u001b[38;5;28;01melif\u001b[39;00m \u001b[38;5;28misinstance\u001b[39m(handle, \u001b[38;5;28mstr\u001b[39m):\n\u001b[1;32m    869\u001b[0m     \u001b[38;5;66;03m# Check whether the filename is to be opened in binary mode.\u001b[39;00m\n\u001b[1;32m    870\u001b[0m     \u001b[38;5;66;03m# Binary mode does not support 'encoding' and 'newline'.\u001b[39;00m\n\u001b[1;32m    871\u001b[0m     \u001b[38;5;28;01mif\u001b[39;00m ioargs\u001b[38;5;241m.\u001b[39mencoding \u001b[38;5;129;01mand\u001b[39;00m \u001b[38;5;124m\"\u001b[39m\u001b[38;5;124mb\u001b[39m\u001b[38;5;124m\"\u001b[39m \u001b[38;5;129;01mnot\u001b[39;00m \u001b[38;5;129;01min\u001b[39;00m ioargs\u001b[38;5;241m.\u001b[39mmode:\n\u001b[1;32m    872\u001b[0m         \u001b[38;5;66;03m# Encoding\u001b[39;00m\n\u001b[0;32m--> 873\u001b[0m         handle \u001b[38;5;241m=\u001b[39m \u001b[38;5;28;43mopen\u001b[39;49m\u001b[43m(\u001b[49m\n\u001b[1;32m    874\u001b[0m \u001b[43m            \u001b[49m\u001b[43mhandle\u001b[49m\u001b[43m,\u001b[49m\n\u001b[1;32m    875\u001b[0m \u001b[43m            \u001b[49m\u001b[43mioargs\u001b[49m\u001b[38;5;241;43m.\u001b[39;49m\u001b[43mmode\u001b[49m\u001b[43m,\u001b[49m\n\u001b[1;32m    876\u001b[0m \u001b[43m            \u001b[49m\u001b[43mencoding\u001b[49m\u001b[38;5;241;43m=\u001b[39;49m\u001b[43mioargs\u001b[49m\u001b[38;5;241;43m.\u001b[39;49m\u001b[43mencoding\u001b[49m\u001b[43m,\u001b[49m\n\u001b[1;32m    877\u001b[0m \u001b[43m            \u001b[49m\u001b[43merrors\u001b[49m\u001b[38;5;241;43m=\u001b[39;49m\u001b[43merrors\u001b[49m\u001b[43m,\u001b[49m\n\u001b[1;32m    878\u001b[0m \u001b[43m            \u001b[49m\u001b[43mnewline\u001b[49m\u001b[38;5;241;43m=\u001b[39;49m\u001b[38;5;124;43m\"\u001b[39;49m\u001b[38;5;124;43m\"\u001b[39;49m\u001b[43m,\u001b[49m\n\u001b[1;32m    879\u001b[0m \u001b[43m        \u001b[49m\u001b[43m)\u001b[49m\n\u001b[1;32m    880\u001b[0m     \u001b[38;5;28;01melse\u001b[39;00m:\n\u001b[1;32m    881\u001b[0m         \u001b[38;5;66;03m# Binary mode\u001b[39;00m\n\u001b[1;32m    882\u001b[0m         handle \u001b[38;5;241m=\u001b[39m \u001b[38;5;28mopen\u001b[39m(handle, ioargs\u001b[38;5;241m.\u001b[39mmode)\n",
      "\u001b[0;31mFileNotFoundError\u001b[0m: [Errno 2] No such file or directory: './data/Abandono_teste.csv'"
     ]
    }
   ],
   "source": [
    "df_raw = pd.read_csv('./data/Abandono_teste.csv', sep=',') "
   ]
  },
  {
   "cell_type": "code",
   "execution_count": 3,
   "metadata": {},
   "outputs": [
    {
     "ename": "FileNotFoundError",
     "evalue": "[Errno 2] No such file or directory: './data/Abandono_clientes.csv'",
     "output_type": "error",
     "traceback": [
      "\u001b[0;31m---------------------------------------------------------------------------\u001b[0m",
      "\u001b[0;31mFileNotFoundError\u001b[0m                         Traceback (most recent call last)",
      "Cell \u001b[0;32mIn[3], line 2\u001b[0m\n\u001b[1;32m      1\u001b[0m \u001b[38;5;66;03m# Dados brutos\u001b[39;00m\n\u001b[0;32m----> 2\u001b[0m df_raw \u001b[38;5;241m=\u001b[39m \u001b[43mpd\u001b[49m\u001b[38;5;241;43m.\u001b[39;49m\u001b[43mread_csv\u001b[49m\u001b[43m(\u001b[49m\u001b[38;5;124;43m'\u001b[39;49m\u001b[38;5;124;43m./data/Abandono_clientes.csv\u001b[39;49m\u001b[38;5;124;43m'\u001b[39;49m\u001b[43m,\u001b[49m\u001b[43m \u001b[49m\u001b[43msep\u001b[49m\u001b[38;5;241;43m=\u001b[39;49m\u001b[38;5;124;43m'\u001b[39;49m\u001b[38;5;124;43m,\u001b[39;49m\u001b[38;5;124;43m'\u001b[39;49m\u001b[43m)\u001b[49m \n",
      "File \u001b[0;32m~/miniconda3/lib/python3.12/site-packages/pandas/io/parsers/readers.py:1026\u001b[0m, in \u001b[0;36mread_csv\u001b[0;34m(filepath_or_buffer, sep, delimiter, header, names, index_col, usecols, dtype, engine, converters, true_values, false_values, skipinitialspace, skiprows, skipfooter, nrows, na_values, keep_default_na, na_filter, verbose, skip_blank_lines, parse_dates, infer_datetime_format, keep_date_col, date_parser, date_format, dayfirst, cache_dates, iterator, chunksize, compression, thousands, decimal, lineterminator, quotechar, quoting, doublequote, escapechar, comment, encoding, encoding_errors, dialect, on_bad_lines, delim_whitespace, low_memory, memory_map, float_precision, storage_options, dtype_backend)\u001b[0m\n\u001b[1;32m   1013\u001b[0m kwds_defaults \u001b[38;5;241m=\u001b[39m _refine_defaults_read(\n\u001b[1;32m   1014\u001b[0m     dialect,\n\u001b[1;32m   1015\u001b[0m     delimiter,\n\u001b[0;32m   (...)\u001b[0m\n\u001b[1;32m   1022\u001b[0m     dtype_backend\u001b[38;5;241m=\u001b[39mdtype_backend,\n\u001b[1;32m   1023\u001b[0m )\n\u001b[1;32m   1024\u001b[0m kwds\u001b[38;5;241m.\u001b[39mupdate(kwds_defaults)\n\u001b[0;32m-> 1026\u001b[0m \u001b[38;5;28;01mreturn\u001b[39;00m \u001b[43m_read\u001b[49m\u001b[43m(\u001b[49m\u001b[43mfilepath_or_buffer\u001b[49m\u001b[43m,\u001b[49m\u001b[43m \u001b[49m\u001b[43mkwds\u001b[49m\u001b[43m)\u001b[49m\n",
      "File \u001b[0;32m~/miniconda3/lib/python3.12/site-packages/pandas/io/parsers/readers.py:620\u001b[0m, in \u001b[0;36m_read\u001b[0;34m(filepath_or_buffer, kwds)\u001b[0m\n\u001b[1;32m    617\u001b[0m _validate_names(kwds\u001b[38;5;241m.\u001b[39mget(\u001b[38;5;124m\"\u001b[39m\u001b[38;5;124mnames\u001b[39m\u001b[38;5;124m\"\u001b[39m, \u001b[38;5;28;01mNone\u001b[39;00m))\n\u001b[1;32m    619\u001b[0m \u001b[38;5;66;03m# Create the parser.\u001b[39;00m\n\u001b[0;32m--> 620\u001b[0m parser \u001b[38;5;241m=\u001b[39m \u001b[43mTextFileReader\u001b[49m\u001b[43m(\u001b[49m\u001b[43mfilepath_or_buffer\u001b[49m\u001b[43m,\u001b[49m\u001b[43m \u001b[49m\u001b[38;5;241;43m*\u001b[39;49m\u001b[38;5;241;43m*\u001b[39;49m\u001b[43mkwds\u001b[49m\u001b[43m)\u001b[49m\n\u001b[1;32m    622\u001b[0m \u001b[38;5;28;01mif\u001b[39;00m chunksize \u001b[38;5;129;01mor\u001b[39;00m iterator:\n\u001b[1;32m    623\u001b[0m     \u001b[38;5;28;01mreturn\u001b[39;00m parser\n",
      "File \u001b[0;32m~/miniconda3/lib/python3.12/site-packages/pandas/io/parsers/readers.py:1620\u001b[0m, in \u001b[0;36mTextFileReader.__init__\u001b[0;34m(self, f, engine, **kwds)\u001b[0m\n\u001b[1;32m   1617\u001b[0m     \u001b[38;5;28mself\u001b[39m\u001b[38;5;241m.\u001b[39moptions[\u001b[38;5;124m\"\u001b[39m\u001b[38;5;124mhas_index_names\u001b[39m\u001b[38;5;124m\"\u001b[39m] \u001b[38;5;241m=\u001b[39m kwds[\u001b[38;5;124m\"\u001b[39m\u001b[38;5;124mhas_index_names\u001b[39m\u001b[38;5;124m\"\u001b[39m]\n\u001b[1;32m   1619\u001b[0m \u001b[38;5;28mself\u001b[39m\u001b[38;5;241m.\u001b[39mhandles: IOHandles \u001b[38;5;241m|\u001b[39m \u001b[38;5;28;01mNone\u001b[39;00m \u001b[38;5;241m=\u001b[39m \u001b[38;5;28;01mNone\u001b[39;00m\n\u001b[0;32m-> 1620\u001b[0m \u001b[38;5;28mself\u001b[39m\u001b[38;5;241m.\u001b[39m_engine \u001b[38;5;241m=\u001b[39m \u001b[38;5;28;43mself\u001b[39;49m\u001b[38;5;241;43m.\u001b[39;49m\u001b[43m_make_engine\u001b[49m\u001b[43m(\u001b[49m\u001b[43mf\u001b[49m\u001b[43m,\u001b[49m\u001b[43m \u001b[49m\u001b[38;5;28;43mself\u001b[39;49m\u001b[38;5;241;43m.\u001b[39;49m\u001b[43mengine\u001b[49m\u001b[43m)\u001b[49m\n",
      "File \u001b[0;32m~/miniconda3/lib/python3.12/site-packages/pandas/io/parsers/readers.py:1880\u001b[0m, in \u001b[0;36mTextFileReader._make_engine\u001b[0;34m(self, f, engine)\u001b[0m\n\u001b[1;32m   1878\u001b[0m     \u001b[38;5;28;01mif\u001b[39;00m \u001b[38;5;124m\"\u001b[39m\u001b[38;5;124mb\u001b[39m\u001b[38;5;124m\"\u001b[39m \u001b[38;5;129;01mnot\u001b[39;00m \u001b[38;5;129;01min\u001b[39;00m mode:\n\u001b[1;32m   1879\u001b[0m         mode \u001b[38;5;241m+\u001b[39m\u001b[38;5;241m=\u001b[39m \u001b[38;5;124m\"\u001b[39m\u001b[38;5;124mb\u001b[39m\u001b[38;5;124m\"\u001b[39m\n\u001b[0;32m-> 1880\u001b[0m \u001b[38;5;28mself\u001b[39m\u001b[38;5;241m.\u001b[39mhandles \u001b[38;5;241m=\u001b[39m \u001b[43mget_handle\u001b[49m\u001b[43m(\u001b[49m\n\u001b[1;32m   1881\u001b[0m \u001b[43m    \u001b[49m\u001b[43mf\u001b[49m\u001b[43m,\u001b[49m\n\u001b[1;32m   1882\u001b[0m \u001b[43m    \u001b[49m\u001b[43mmode\u001b[49m\u001b[43m,\u001b[49m\n\u001b[1;32m   1883\u001b[0m \u001b[43m    \u001b[49m\u001b[43mencoding\u001b[49m\u001b[38;5;241;43m=\u001b[39;49m\u001b[38;5;28;43mself\u001b[39;49m\u001b[38;5;241;43m.\u001b[39;49m\u001b[43moptions\u001b[49m\u001b[38;5;241;43m.\u001b[39;49m\u001b[43mget\u001b[49m\u001b[43m(\u001b[49m\u001b[38;5;124;43m\"\u001b[39;49m\u001b[38;5;124;43mencoding\u001b[39;49m\u001b[38;5;124;43m\"\u001b[39;49m\u001b[43m,\u001b[49m\u001b[43m \u001b[49m\u001b[38;5;28;43;01mNone\u001b[39;49;00m\u001b[43m)\u001b[49m\u001b[43m,\u001b[49m\n\u001b[1;32m   1884\u001b[0m \u001b[43m    \u001b[49m\u001b[43mcompression\u001b[49m\u001b[38;5;241;43m=\u001b[39;49m\u001b[38;5;28;43mself\u001b[39;49m\u001b[38;5;241;43m.\u001b[39;49m\u001b[43moptions\u001b[49m\u001b[38;5;241;43m.\u001b[39;49m\u001b[43mget\u001b[49m\u001b[43m(\u001b[49m\u001b[38;5;124;43m\"\u001b[39;49m\u001b[38;5;124;43mcompression\u001b[39;49m\u001b[38;5;124;43m\"\u001b[39;49m\u001b[43m,\u001b[49m\u001b[43m \u001b[49m\u001b[38;5;28;43;01mNone\u001b[39;49;00m\u001b[43m)\u001b[49m\u001b[43m,\u001b[49m\n\u001b[1;32m   1885\u001b[0m \u001b[43m    \u001b[49m\u001b[43mmemory_map\u001b[49m\u001b[38;5;241;43m=\u001b[39;49m\u001b[38;5;28;43mself\u001b[39;49m\u001b[38;5;241;43m.\u001b[39;49m\u001b[43moptions\u001b[49m\u001b[38;5;241;43m.\u001b[39;49m\u001b[43mget\u001b[49m\u001b[43m(\u001b[49m\u001b[38;5;124;43m\"\u001b[39;49m\u001b[38;5;124;43mmemory_map\u001b[39;49m\u001b[38;5;124;43m\"\u001b[39;49m\u001b[43m,\u001b[49m\u001b[43m \u001b[49m\u001b[38;5;28;43;01mFalse\u001b[39;49;00m\u001b[43m)\u001b[49m\u001b[43m,\u001b[49m\n\u001b[1;32m   1886\u001b[0m \u001b[43m    \u001b[49m\u001b[43mis_text\u001b[49m\u001b[38;5;241;43m=\u001b[39;49m\u001b[43mis_text\u001b[49m\u001b[43m,\u001b[49m\n\u001b[1;32m   1887\u001b[0m \u001b[43m    \u001b[49m\u001b[43merrors\u001b[49m\u001b[38;5;241;43m=\u001b[39;49m\u001b[38;5;28;43mself\u001b[39;49m\u001b[38;5;241;43m.\u001b[39;49m\u001b[43moptions\u001b[49m\u001b[38;5;241;43m.\u001b[39;49m\u001b[43mget\u001b[49m\u001b[43m(\u001b[49m\u001b[38;5;124;43m\"\u001b[39;49m\u001b[38;5;124;43mencoding_errors\u001b[39;49m\u001b[38;5;124;43m\"\u001b[39;49m\u001b[43m,\u001b[49m\u001b[43m \u001b[49m\u001b[38;5;124;43m\"\u001b[39;49m\u001b[38;5;124;43mstrict\u001b[39;49m\u001b[38;5;124;43m\"\u001b[39;49m\u001b[43m)\u001b[49m\u001b[43m,\u001b[49m\n\u001b[1;32m   1888\u001b[0m \u001b[43m    \u001b[49m\u001b[43mstorage_options\u001b[49m\u001b[38;5;241;43m=\u001b[39;49m\u001b[38;5;28;43mself\u001b[39;49m\u001b[38;5;241;43m.\u001b[39;49m\u001b[43moptions\u001b[49m\u001b[38;5;241;43m.\u001b[39;49m\u001b[43mget\u001b[49m\u001b[43m(\u001b[49m\u001b[38;5;124;43m\"\u001b[39;49m\u001b[38;5;124;43mstorage_options\u001b[39;49m\u001b[38;5;124;43m\"\u001b[39;49m\u001b[43m,\u001b[49m\u001b[43m \u001b[49m\u001b[38;5;28;43;01mNone\u001b[39;49;00m\u001b[43m)\u001b[49m\u001b[43m,\u001b[49m\n\u001b[1;32m   1889\u001b[0m \u001b[43m\u001b[49m\u001b[43m)\u001b[49m\n\u001b[1;32m   1890\u001b[0m \u001b[38;5;28;01massert\u001b[39;00m \u001b[38;5;28mself\u001b[39m\u001b[38;5;241m.\u001b[39mhandles \u001b[38;5;129;01mis\u001b[39;00m \u001b[38;5;129;01mnot\u001b[39;00m \u001b[38;5;28;01mNone\u001b[39;00m\n\u001b[1;32m   1891\u001b[0m f \u001b[38;5;241m=\u001b[39m \u001b[38;5;28mself\u001b[39m\u001b[38;5;241m.\u001b[39mhandles\u001b[38;5;241m.\u001b[39mhandle\n",
      "File \u001b[0;32m~/miniconda3/lib/python3.12/site-packages/pandas/io/common.py:873\u001b[0m, in \u001b[0;36mget_handle\u001b[0;34m(path_or_buf, mode, encoding, compression, memory_map, is_text, errors, storage_options)\u001b[0m\n\u001b[1;32m    868\u001b[0m \u001b[38;5;28;01melif\u001b[39;00m \u001b[38;5;28misinstance\u001b[39m(handle, \u001b[38;5;28mstr\u001b[39m):\n\u001b[1;32m    869\u001b[0m     \u001b[38;5;66;03m# Check whether the filename is to be opened in binary mode.\u001b[39;00m\n\u001b[1;32m    870\u001b[0m     \u001b[38;5;66;03m# Binary mode does not support 'encoding' and 'newline'.\u001b[39;00m\n\u001b[1;32m    871\u001b[0m     \u001b[38;5;28;01mif\u001b[39;00m ioargs\u001b[38;5;241m.\u001b[39mencoding \u001b[38;5;129;01mand\u001b[39;00m \u001b[38;5;124m\"\u001b[39m\u001b[38;5;124mb\u001b[39m\u001b[38;5;124m\"\u001b[39m \u001b[38;5;129;01mnot\u001b[39;00m \u001b[38;5;129;01min\u001b[39;00m ioargs\u001b[38;5;241m.\u001b[39mmode:\n\u001b[1;32m    872\u001b[0m         \u001b[38;5;66;03m# Encoding\u001b[39;00m\n\u001b[0;32m--> 873\u001b[0m         handle \u001b[38;5;241m=\u001b[39m \u001b[38;5;28;43mopen\u001b[39;49m\u001b[43m(\u001b[49m\n\u001b[1;32m    874\u001b[0m \u001b[43m            \u001b[49m\u001b[43mhandle\u001b[49m\u001b[43m,\u001b[49m\n\u001b[1;32m    875\u001b[0m \u001b[43m            \u001b[49m\u001b[43mioargs\u001b[49m\u001b[38;5;241;43m.\u001b[39;49m\u001b[43mmode\u001b[49m\u001b[43m,\u001b[49m\n\u001b[1;32m    876\u001b[0m \u001b[43m            \u001b[49m\u001b[43mencoding\u001b[49m\u001b[38;5;241;43m=\u001b[39;49m\u001b[43mioargs\u001b[49m\u001b[38;5;241;43m.\u001b[39;49m\u001b[43mencoding\u001b[49m\u001b[43m,\u001b[49m\n\u001b[1;32m    877\u001b[0m \u001b[43m            \u001b[49m\u001b[43merrors\u001b[49m\u001b[38;5;241;43m=\u001b[39;49m\u001b[43merrors\u001b[49m\u001b[43m,\u001b[49m\n\u001b[1;32m    878\u001b[0m \u001b[43m            \u001b[49m\u001b[43mnewline\u001b[49m\u001b[38;5;241;43m=\u001b[39;49m\u001b[38;5;124;43m\"\u001b[39;49m\u001b[38;5;124;43m\"\u001b[39;49m\u001b[43m,\u001b[49m\n\u001b[1;32m    879\u001b[0m \u001b[43m        \u001b[49m\u001b[43m)\u001b[49m\n\u001b[1;32m    880\u001b[0m     \u001b[38;5;28;01melse\u001b[39;00m:\n\u001b[1;32m    881\u001b[0m         \u001b[38;5;66;03m# Binary mode\u001b[39;00m\n\u001b[1;32m    882\u001b[0m         handle \u001b[38;5;241m=\u001b[39m \u001b[38;5;28mopen\u001b[39m(handle, ioargs\u001b[38;5;241m.\u001b[39mmode)\n",
      "\u001b[0;31mFileNotFoundError\u001b[0m: [Errno 2] No such file or directory: './data/Abandono_clientes.csv'"
     ]
    }
   ],
   "source": [
    "# Dados brutos\n",
    "df_raw = pd.read_csv('./data/Abandono_clientes.csv', sep=',') "
   ]
  },
  {
   "cell_type": "code",
   "execution_count": null,
   "metadata": {},
   "outputs": [],
   "source": [
    "# Visualizando as primeiras linhas\n",
    "df_raw.head()"
   ]
  },
  {
   "cell_type": "code",
   "execution_count": null,
   "metadata": {},
   "outputs": [],
   "source": [
    "# Visualizando as ultimas linhas\n",
    "df_raw.tail()"
   ]
  },
  {
   "cell_type": "code",
   "execution_count": null,
   "metadata": {},
   "outputs": [],
   "source": [
    "# Conferindo as dimensões do conjunto de dados\n",
    "\n",
    "print(f'Quantidade de linhas: {df_raw.shape[0]}')\n",
    "print(f'Quantidade de colunas: {df_raw.shape[1]}')"
   ]
  },
  {
   "cell_type": "markdown",
   "metadata": {},
   "source": [
    "Como descrito no enunciado do desafio, temos 10000 linhas e 14 colunas.\n",
    "\n",
    "Vamos criar um dicionário que guarde a descrição das colunas facilitando a identificação quando necessário."
   ]
  },
  {
   "cell_type": "code",
   "execution_count": null,
   "metadata": {},
   "outputs": [],
   "source": [
    "# Dicionário de descrição das colunas\n",
    "\n",
    "dict_colunas = {\n",
    "    \"RowNumber\": \"Número da linha no conjunto de dados, usado apenas como identificador.\",\n",
    "    \"CustomerId\": \"Identificador único do cliente.\",\n",
    "    \"Surname\": \"Sobrenome do cliente.\",\n",
    "    \"CreditScore\": \"Pontuação de crédito do cliente.\",\n",
    "    \"Geography\": \"País ou região de origem do cliente.\",\n",
    "    \"Gender\": \"Gênero do cliente (masculino ou feminino).\",\n",
    "    \"Age\": \"Idade do cliente.\",\n",
    "    \"Tenure\": \"Número de anos que o cliente tem como cliente do banco.\",\n",
    "    \"Balance\": \"Saldo atual na conta bancária do cliente.\",\n",
    "    \"NumOfProducts\": \"Número de produtos bancários que o cliente utiliza.\",\n",
    "    \"HasCrCard\": \"Indica se o cliente possui um cartão de crédito (1 = sim, 0 = não).\",\n",
    "    \"IsActiveMember\": \"Indica se o cliente é um membro ativo do banco (1 = sim, 0 = não).\",\n",
    "    \"EstimatedSalary\": \"Salário estimado do cliente.\",\n",
    "    \"Exited\": \"Indica se o cliente saiu do banco (1 = sim, 0 = não).\"\n",
    "}\n",
    "\n",
    "dict_colunas"
   ]
  },
  {
   "cell_type": "markdown",
   "metadata": {},
   "source": [
    "## 1.1 Checagem da tipologia dos dados\n",
    "\n",
    "Vamos verificar a estrutura do dado com o intuito de identificar possíveis dados ausentes, inconsistências e outros fatores.\n",
    "\n",
    "Com o objetivo de não afetar os dados originais, vamos fazer uma cópia."
   ]
  },
  {
   "cell_type": "code",
   "execution_count": 8,
   "metadata": {},
   "outputs": [],
   "source": [
    "# Copia para as possíveis alterações não afear is dados originais\n",
    "df_raw_1 = df_raw.copy()"
   ]
  },
  {
   "cell_type": "code",
   "execution_count": null,
   "metadata": {},
   "outputs": [],
   "source": [
    "# Criando um dataframe que contem a quantidade de dados nulos, o tipo e valores únicos\n",
    "pd.DataFrame({\"dados_nulos\": df_raw_1.isna().mean(),\n",
    "              \"tipos_dados\": df_raw_1.dtypes,\n",
    "              \"Valores_unicos\": df_raw_1.nunique()})"
   ]
  },
  {
   "cell_type": "markdown",
   "metadata": {},
   "source": [
    "Podemos notar que os dados são condizentes com sua características. Desta forma, vamos manter em seus formatos iniciais.\\\n",
    "E que também não temos dados faltantes."
   ]
  },
  {
   "cell_type": "markdown",
   "metadata": {},
   "source": [
    "## 2. Analise Descritiva"
   ]
  },
  {
   "cell_type": "markdown",
   "metadata": {},
   "source": [
    "Vamos separar nosso dados em dois dataframes, um categóricos e outro numérico. \n",
    "\n",
    "Se olharmos novamente no `dict_colunas` temos uma descrição das colunas nos auxiliando a separar as colunas em:\n",
    "\n",
    "'RowNumber': Numérico\\\n",
    "'CustomerId': Categórico\\\n",
    "'Surname': Categórico\\\n",
    "'CreditScore': Numérico\\\n",
    "'Geography': Categórico\\\n",
    "'Gender': Categórico\\\n",
    "'Age': Numérico\\\n",
    "'Tenure': Numérico\\\n",
    "'Balance': Numérico\\\n",
    "'NumOfProducts': Numérico\\\n",
    "'HasCrCard': Categórico\\\n",
    "'IsActiveMember': Categórico\\\n",
    "'EstimatedSalary': Numérico\\\n",
    "'Exited': Categórico"
   ]
  },
  {
   "cell_type": "markdown",
   "metadata": {},
   "source": [
    "Aqui podemos identificar também que as variáveis RowNumber, CustomerId e Surname, não serão uteis tanto na analise descritiva como na previsão, pois não possuem valor de analise."
   ]
  },
  {
   "cell_type": "code",
   "execution_count": 10,
   "metadata": {},
   "outputs": [],
   "source": [
    "# realizando a divisão dos dados\n",
    "\n",
    "cat_atributos = df_raw_1[['Gender', 'Geography', 'HasCrCard', 'IsActiveMember','Exited']]\n",
    "num_atributos = df_raw_1[['CreditScore','Age', 'Tenure', 'Balance', 'NumOfProducts', 'EstimatedSalary','Exited']]"
   ]
  },
  {
   "cell_type": "markdown",
   "metadata": {},
   "source": [
    "### 2.1 Analise Descritiva Categóricos\n",
    "\n",
    "Vamos analisar uma proporção de churn em cada variável categórica, uma vez que os números absolutos individualmente não nos fornecem o contexto sobre o dado que representam. Mas quando relacionamos os números absolutos com o total correspondente, conseguimos criar métricas  ou proporções que permitem:\n",
    "\n",
    "- Comparar e contextualizar;\n",
    "- Identificar padrões;\n",
    "- Normalizar dados para comparação justa, etc.\n",
    "\n",
    "Vamos criar uma função para extrair a proporção de churn, em cada variável."
   ]
  },
  {
   "cell_type": "code",
   "execution_count": 11,
   "metadata": {},
   "outputs": [],
   "source": [
    "# Extraindo a proporção de clientes que abandonaram o banco por variável categórica\n",
    "def extrai_proporcao_exited(variavel, df_raw_1):\n",
    "\n",
    "    count1 = df_raw_1[[variavel, 'Exited']]\n",
    "\n",
    "    var_Exited = count1[count1['Exited'] == 1].groupby(variavel, as_index = False).count()\n",
    "\n",
    "    count2 = df_raw_1[[variavel, 'Exited']].groupby(variavel, as_index = False).count()\n",
    "    count2.rename(columns = {\"Exited\": \"total_cust\"}, inplace=True)\n",
    "\n",
    "    var_Exited['total_cust'] = count2['total_cust']\n",
    "    var_Exited['%Exited'] = var_Exited['Exited']/count2['total_cust']\n",
    "    var_Exited = var_Exited.sort_values(by='%Exited', ascending=False)\n",
    "\n",
    "    return var_Exited"
   ]
  },
  {
   "cell_type": "code",
   "execution_count": 12,
   "metadata": {},
   "outputs": [],
   "source": [
    "# Executando a função para variável Geography\n",
    "geografic_exited = extrai_proporcao_exited('Geography', df_raw_1)"
   ]
  },
  {
   "cell_type": "code",
   "execution_count": null,
   "metadata": {},
   "outputs": [],
   "source": [
    "geografic_exited.head()"
   ]
  },
  {
   "cell_type": "code",
   "execution_count": null,
   "metadata": {},
   "outputs": [],
   "source": [
    "# Configurar a figura e os eixos\n",
    "fig = plt.figure(figsize=(20, 10))\n",
    "\n",
    "ax1 = plt.subplot2grid((2, 3), (0, 0), colspan=2, rowspan=2)\n",
    "\n",
    "# Gráfico de barras\n",
    "sns.barplot(\n",
    "    x='Geography',\n",
    "    y='%Exited',\n",
    "    data=geografic_exited,\n",
    "    palette='Blues'  # Mantém o palette, pois é válido com `hue=None`\n",
    ")\n",
    "\n",
    "# Ajustes nos rótulos do eixo X\n",
    "ax1.set_xticklabels(ax1.get_xticklabels(), size=12, fontweight='bold')\n",
    "ax1.set(xlabel=None)\n",
    "\n",
    "# Título do gráfico\n",
    "ax1.set_title(\"% Exited de Clientes por país\", fontsize=20, fontweight='bold')\n",
    "\n",
    "# Exibir o gráfico\n",
    "plt.show()\n"
   ]
  },
  {
   "cell_type": "markdown",
   "metadata": {},
   "source": [
    "Podemos observar que a Alemanha possui a maior taxa de Exited ($32\\%$), Espanha e França possuem praticamente o mesmo valor ($16\\%$) de taxa.\n",
    "\n",
    "Vamos proceder com a mesma analise, mas para as outras variáveis categóricas"
   ]
  },
  {
   "cell_type": "code",
   "execution_count": null,
   "metadata": {},
   "outputs": [],
   "source": [
    "cat_atributos"
   ]
  },
  {
   "cell_type": "code",
   "execution_count": null,
   "metadata": {},
   "outputs": [],
   "source": [
    "# Função para criar gráficos personalizados\n",
    "def create_countplot(ax, x_var, data, hue_var, title, xlabels=None):\n",
    "    # Gráfico com barras\n",
    "    plot = sns.countplot(\n",
    "        x=x_var, data=data, hue=hue_var, ax=ax, palette=[\"green\", \"red\"], alpha=0.6, hue_order=[0, 1]\n",
    "    )\n",
    "    \n",
    "    # Ajustar legenda\n",
    "    handles, labels = plot.get_legend_handles_labels()\n",
    "    ax.legend(handles, ['Não', 'Sim'], title='Exited')\n",
    "    \n",
    "    # Adicionar porcentagens nas barras\n",
    "    for p in plot.patches:\n",
    "        if p.get_height() > 0:\n",
    "            percentage = '{:.1f}%'.format(100 * p.get_height() / float(len(data)))\n",
    "            x = p.get_x() + p.get_width() / 2\n",
    "            y = p.get_height() + 40\n",
    "            plot.annotate(percentage, (x, y), ha='center', va='center')\n",
    "    \n",
    "    # Configuração dos rótulos do eixo X\n",
    "    if xlabels:\n",
    "        ax.set_xticks(range(len(ax.get_xticklabels())))\n",
    "        ax.set_xticklabels(xlabels, size=11, fontweight='bold')\n",
    "    else:\n",
    "        ax.set_xticks(range(len(ax.get_xticklabels())))  # Define explicitamente os ticks\n",
    "        ax.set_xticklabels(ax.get_xticklabels(), size=11, fontweight='bold')  # Define os rótulos\n",
    "    \n",
    "    # Título\n",
    "    ax.set_title(title, fontsize=15, fontweight='bold')\n",
    "    ax.set(xlabel=None)\n",
    "\n",
    "# Criar a figura\n",
    "fig = plt.figure(figsize=(20, 10))\n",
    "\n",
    "# Gráfico por Gênero\n",
    "ax1 = plt.subplot2grid((2, 2), (0, 0))\n",
    "create_countplot(ax1, 'Gender', df_raw_1, 'Exited', \"Clientes por Gênero\")\n",
    "\n",
    "# Gráfico por HasCrCard\n",
    "ax2 = plt.subplot2grid((2, 2), (0, 1))\n",
    "create_countplot(ax2, 'HasCrCard', df_raw_1, 'Exited', \"Clientes que possuem Cartão\", xlabels=['Não', 'Sim'])\n",
    "\n",
    "# Gráfico por IsActiveMember\n",
    "ax3 = plt.subplot2grid((2, 2), (1, 0))\n",
    "create_countplot(ax3, 'IsActiveMember', df_raw_1, 'Exited', \"Clientes por Membro Ativo\", xlabels=['Não', 'Sim'])\n",
    "\n",
    "\n",
    "ax4 = plt.subplot2grid((2, 2), (1, 1))\n",
    "create_countplot(ax4, 'Geography', df_raw_1, 'Exited', \"Clientes por País\")\n",
    "\n",
    "# Ajustar layout\n",
    "plt.tight_layout()\n",
    "plt.savefig(\"./imagens/clientes_por_variavel_valor_total.png\")\n",
    "plt.show()\n"
   ]
  },
  {
   "cell_type": "markdown",
   "metadata": {},
   "source": [
    "Temos uma analise da quantidade e a $\\%$ do total, porém não é uma leitura totalmente correta, note que todas as barras maiores tem uma quantidade maior de não **Exited**, isso pode ocorrer em função do volume. Para termos uma avaliação proporcional, devemos extrair uma porção, semelhante o que fizemos no gráfico por país.\n",
    "\n",
    "Portanto, vamos extrair a proporção de cada variável."
   ]
  },
  {
   "cell_type": "code",
   "execution_count": null,
   "metadata": {},
   "outputs": [],
   "source": [
    "def create_barplot(ax, x_var,data, title, palette='Blues', xlabels=None,  bar_width=.5):\n",
    "\n",
    "    # Pega as proporções de Exited por variável\n",
    "    proporcao_exited = extrai_proporcao_exited(x_var, data)\n",
    "\n",
    "\n",
    "    # Gráfico com barras\n",
    "    sns.barplot(x = x_var,\n",
    "                y='%Exited',\n",
    "                data=proporcao_exited,\n",
    "                palette=palette,\n",
    "                ax =ax)\n",
    "    # Ajustar largura das barras\n",
    "    for bar in ax.patches:\n",
    "        bar.set_width(bar_width)\n",
    "    \n",
    "    # Reposicionar os ticks no centro das barras\n",
    "    ticks_positions = [bar.get_x() + bar.get_width() / 2 for bar in ax.patches]\n",
    "    ax.set_xticks(ticks_positions)\n",
    "\n",
    "    # Configuração dos rótulos do eixo X\n",
    "    if xlabels:\n",
    "        ax.set_xticklabels(xlabels, size=11, fontweight='bold')\n",
    "    else:\n",
    "        ax.set_xticklabels(ax.get_xticklabels(), size=11, fontweight='bold')\n",
    "    \n",
    "    # Título\n",
    "    ax.set_title(title, fontsize=15, fontweight='bold')\n",
    "    ax.set(xlabel=None)\n",
    "\n",
    "\n",
    "fig = plt.figure(figsize=(20, 10))\n",
    "\n",
    "# Gráfico por Gênero\n",
    "ax1 = plt.subplot2grid((2, 2), (0, 0))\n",
    "create_barplot(ax1, 'Gender', df_raw_1, \"Clientes por Gênero\")\n",
    "\n",
    "ax2 = plt.subplot2grid((2, 2), (0, 1))\n",
    "create_barplot(ax2, 'HasCrCard', df_raw_1, \"Clientes que possuem Cartão\",  xlabels=['Não', 'Sim'])\n",
    "\n",
    "ax3 = plt.subplot2grid((2, 2), (1, 0))\n",
    "create_barplot(ax3, 'IsActiveMember', df_raw_1, \"Clientes que é Membro Ativo\",  xlabels=['Não', 'Sim'])\n",
    "\n",
    "ax4 = plt.subplot2grid((2, 2), (1, 1))\n",
    "create_barplot(ax4, 'Geography', df_raw_1, \"Clientes por país\")\n",
    "\n",
    "plt.tight_layout()\n",
    "plt.savefig(\"./imagens/clientes_por_variavel_valor_proporcional.png\")\n",
    "\n",
    "plt.show()"
   ]
  },
  {
   "cell_type": "markdown",
   "metadata": {},
   "source": [
    "Se comparamos os gráficos por valores totais e por proporção, temos:\n",
    "\n",
    "- No caso de clientes por Gênero, a taxa de cancelamento por valores totais é de $11.4\\%$ enquanto em valores proporcionais chega a $25\\%$. Obs.: É necessário tomarmos cuidado quando realizarmos analises para não reforçamos preconceitos e não vir ser um viés na analise preditiva. Note que a variável categórica **Gênero** nos indica que proporcionalmente, mulheres tem a maior taxa de cancelamento, este resultado não deve ser usado com o intuito de impedir o acesso delas ao banco, mas sim de entender o motivo da evasão.\n",
    "\n",
    "- Para clientes que possuem cartão de crédito, em valores totais é possível ver que os clientes que não cancelam é bem maior comparado aos que cancelam, contudo quando olhamos proporcionalmente, a taxa de cancelamento para clientes que possuem ou não possuem cartão é quase o mesmo valor. Este resultado pode nos indicar que esta variável categórica não terá tanto papel na identificação dos usuários durante a predição. \n",
    "\n",
    "- Por fim, clientes que não são membros possuem cancelam mais os planos comparados com os que são membros."
   ]
  },
  {
   "cell_type": "markdown",
   "metadata": {},
   "source": [
    "### 2.2 Analise Descritiva Numéricas\n",
    "\n",
    "Nesta etapa vamos olhar para as variáveis numéricas. Vamos iniciar olhando algumas estatísticas descritivas básicas, são elas:\n",
    "\n",
    "- **Mínimo:** O menor valor;\n",
    "- **Máximo:** O maior valor;\n",
    "- **Média:** O valor médio;\n",
    "- **Desvio Padrão:** Indica o quanto estamos longe da média;\n",
    "- **Skew (Assimetria):** Mede o grau de distorção ou falta de simetria de uma distribuição em relação a um curva normal\n",
    "    - **0:** Distribuição simétrica;\n",
    "    - **Positivo:** Assimetria para a direita (cauda mais longa na direita)\n",
    "    - **Negativo:** Assimetria para a esquerda (cauda mais longa na esquerda)\n",
    "- **kurtosis (Curtose):** Mede o grau de concentração dos valores em torno da média, indicando a \"altura\" e o \"achatamento\" das caudas da distribuição;\n",
    "    - **3 (Mesocúrta):** Curtose de uma curva padrão\n",
    "    - **> 3 (Leptocúrtica):** Caudas mais pesadas e pico mais alto (distribuição com muitos valores extremos).\n",
    "    - **< 3 (Platicúrtica):** Caudas mais leves e distribuição achatada (distribuição com menos valores extremos).\n"
   ]
  },
  {
   "cell_type": "code",
   "execution_count": null,
   "metadata": {},
   "outputs": [],
   "source": [
    "# Realizando a descrição estatística \n",
    "num_atributos_descricao = num_atributos.agg(['min', 'max', 'mean','median', 'std', 'skew', 'kurtosis']).T\n",
    "num_atributos_descricao['range'] = num_atributos_descricao['max'] - num_atributos_descricao['min']\n",
    "num_atributos_descricao"
   ]
  },
  {
   "cell_type": "markdown",
   "metadata": {},
   "source": [
    "Nesta análise inicial dos atributos numéricos incluiu a verificação de métricas de tendência, como média e a mediana, assim como métricas de dispersão. Note, que para a maioria dos dados, a média e a mediana são similares, com exceção do atributo `Balance`, que apresenta uma diferença mais significativa."
   ]
  },
  {
   "cell_type": "markdown",
   "metadata": {},
   "source": [
    "#### 2.2.1 Gráficos de Densidade\n",
    "Vamos plotar as distribuições de cada variável numérica e avaliar os comportamentos."
   ]
  },
  {
   "cell_type": "code",
   "execution_count": null,
   "metadata": {},
   "outputs": [],
   "source": [
    "num_atributos"
   ]
  },
  {
   "cell_type": "code",
   "execution_count": null,
   "metadata": {},
   "outputs": [],
   "source": [
    "# removendo a coluna Exited\n",
    "colunas = num_atributos.drop('Exited', axis=1).columns\n",
    "\n",
    "# Vamos separar as classes deExited e NaoExited\n",
    "num_atributos_exited = num_atributos[num_atributos['Exited'] == 1]\n",
    "num_atributos_nao_exited = num_atributos[num_atributos['Exited'] == 0]\n",
    "\n",
    "# definindo a área de plotagem\n",
    "nrow = 2\n",
    "ncol = 3 \n",
    "fig, ax = plt.subplots(nrows=nrow, ncols=ncol, figsize = (18,10))\n",
    "fig.subplots_adjust(hspace=1, wspace=1)\n",
    "\n",
    "# plotando gráfico de densidade\n",
    "idx = 0\n",
    "for col in colunas:\n",
    "    idx += 1\n",
    "    plt.subplot(nrow, ncol, idx)\n",
    "    sns.kdeplot(num_atributos_exited[col], label= 'Sim', fill=True, color='green')\n",
    "    sns.kdeplot(num_atributos_nao_exited[col], label= 'Não', fill=True, color='red')\n",
    "    plt.title(col, fontsize=14, fontweight='bold')\n",
    "    plt.legend()\n",
    "\n",
    "\n",
    "plt.tight_layout()\n",
    "plt.savefig(\"./imagens/densidade_das_variaveis.png\")\n",
    "plt.show()"
   ]
  },
  {
   "cell_type": "markdown",
   "metadata": {},
   "source": [
    "Nesta etapa olhamos para distribuição das variáveis numéricas, algumas conclusões podem ser obtidas:\n",
    "\n",
    "- Os gráficos de **Tenure** e **EstimatedSalary** apresentam um topo largo, indicando que os valores dessas variáveis estão mais **uniformemente distribuídos** dentro de um certo intervalo. Esta informação indica que não temos um único valor ou faixa de valores dominante. Quando olhamos com o objetivo de prever o **Churn**, tanto o **Tenure** e **EstimatedSalary** não parecem ser um fator decisivo para o cliente sair ou permanecer.\n",
    "\n",
    "- Para os gráficos **Age** e **NumOfProducts** mostram picos estreitos, indicando que há faixas específicas de valores com maior concentração de clientes (com idades específicas ou números de produtos). Estas duas variáveis podem ser uteis na análise preditiva. \n",
    "\n",
    "- Para o gráfico **CreditScore** temos uma distribuição simétrica, indicando que os dados estão próximos de uma distribuição normal. Indicando que a maioria dos clientes tem pontuações de crédito numa faixa considerada comum (média e boa). A simetria também indica que não temos uma forte concentração em extremos, como clientes com pontuações muito baixa ou muito alta. Esta variável é importante na análise preditiva, pois clientes com baixo score tem mais dificuldades de acessar serviços ou produtos financeiros, tornando-os mais propensos a abandonar o banco e clientes com altas pontuações podem ser alvos de concorrentes oferecendo melhores condições. Obs.: Por ser um grupo com distribuição simétrica, não será necessário um tratamento tão intenso de outliers.\n",
    "\n",
    "- No gráfico **Balance** temos dois picos principais:\n",
    "    - Um pico em **0**, provavelmente clientes sem saldo, com contas inativas ou que utilizam o banco apenas para movimentações pontuais;\n",
    "    - Um segundo pico numa faixa de saldo mais alta (próxima de 100.000 a 150.000), indicando que estes clientes provavelmente possuem uma conta de poupança ou investimento.\n",
    "Temos então um comportamento bimodal, sugerindo que o banco atende dois grupos principais, essa segmentação pode indicar que o banco precisa de estratégias para atrair e engajar os dois grupos:\n",
    "    - **Clientes com saldo baixo:** Ofertas de incentivos para movimentação e engajamento.\n",
    "    - **Clientes com saldo alto:** Ofertas de produtos premium ou investimentos.\n",
    "Durante a análise preditiva, provavelmente deveremos tratar esses dois segmentos como classes separadas, assim um não mascara o outro. "
   ]
  },
  {
   "cell_type": "markdown",
   "metadata": {},
   "source": [
    "#### 2.2.2 Analisando os Outliers\n",
    "\n",
    "Os outliers podem influenciar nas análises e no tratamento do modelo preditivo, portanto, vamos buscar identificar os outliers e seus comportamento.\n",
    "\n",
    "Para tal, vamos plotar o boxplot com o serborn."
   ]
  },
  {
   "cell_type": "code",
   "execution_count": null,
   "metadata": {},
   "outputs": [],
   "source": [
    "num_atributos_exited"
   ]
  },
  {
   "cell_type": "code",
   "execution_count": 127,
   "metadata": {},
   "outputs": [],
   "source": [
    "def plot_boxplot_subplots(data, variables_per_subplot, target, YNExited, nrows, ncols, figsize=(15, 10), width=0.2, palette='Set2', name=None):\n",
    "    \"\"\"\n",
    "    Função para criar subplots com gráficos de boxplot usando diferentes variáveis para cada subplot.\n",
    "\n",
    "    Args:\n",
    "    - data (DataFrame): O DataFrame contendo os dados.\n",
    "    - variables_per_subplot (list of lists): Lista onde cada elemento é uma lista de variáveis para um subplot.\n",
    "    - target (str): Nome da variável alvo (categórica).\n",
    "    - nrows (int): Número de linhas de subplots.\n",
    "    - ncols (int): Número de colunas de subplots.\n",
    "    - figsize (tuple): Tamanho total da figura.\n",
    "    - width (float): Largura das caixas no boxplot.\n",
    "    - palette (str): Paleta de cores para os gráficos.\n",
    "\n",
    "    Returns:\n",
    "    - None. Exibe os gráficos.\n",
    "    \"\"\"\n",
    "    \n",
    "    # Criar a figura e os subplots\n",
    "    fig, axes = plt.subplots(nrows=nrows, ncols=ncols, figsize=figsize)\n",
    "    axes = axes.flatten()  # Garantir que podemos iterar facilmente pelos eixos\n",
    "\n",
    "    # Iterar sobre os subplots e as variáveis correspondentes\n",
    "    for i, (ax, variables) in enumerate(zip(axes, variables_per_subplot)):\n",
    "        # Transformar os dados para o formato longo (melt)\n",
    "        melted = data[variables + [target]].melt(\n",
    "            id_vars=[target],\n",
    "            var_name='Variable',\n",
    "            value_name='Value'\n",
    "        )\n",
    "\n",
    "        # Criar o boxplot para o subplot atual\n",
    "        sns.boxplot(y='Variable', x='Value', data=melted, palette=palette, width=width, ax=ax)\n",
    "\n",
    "        # Ajustar o título e os rótulos\n",
    "        ax.set_title(f'Distribuição das Variáveis por {target} = {YNExited}', fontsize=15, fontweight='bold')\n",
    "        ax.set_xlabel('Valores', fontsize=16)\n",
    "        \n",
    "        ax.tick_params(axis='x', labelsize=13)\n",
    "        ax.tick_params(axis='y', labelsize=13)\n",
    "        if i==0:\n",
    "            ax.set_ylabel('Variáveis', fontsize=16)\n",
    "        else:\n",
    "            ax.set_ylabel(None)\n",
    "\n",
    "\n",
    "    # Ajustar o layout para evitar sobreposições\n",
    "    plt.tight_layout()\n",
    "    plt.savefig(f\"./imagens/{name}.png\")\n",
    "    plt.show()\n"
   ]
  },
  {
   "cell_type": "code",
   "execution_count": null,
   "metadata": {},
   "outputs": [],
   "source": [
    "variables_per_subplot = [\n",
    "    ['Age', 'Tenure', 'NumOfProducts'],          # Variáveis para o subplot 1\n",
    "    ['CreditScore'],     # Variáveis para o subplot 2\n",
    "    ['Balance', 'EstimatedSalary'],  # Variáveis para o subplot 3\n",
    "]\n",
    "plot_boxplot_subplots(\n",
    "    data=num_atributos_exited,\n",
    "    variables_per_subplot=variables_per_subplot,\n",
    "    target='Exited',YNExited='Sim',\n",
    "    nrows=1,\n",
    "    ncols=3,\n",
    "    figsize=(20, 6),\n",
    "    width=0.2,\n",
    "    palette='Set2',\n",
    "    name= 'outlier_sim'\n",
    ")\n",
    "\n",
    "\n",
    "\n",
    "plot_boxplot_subplots(\n",
    "    data=num_atributos_nao_exited,\n",
    "    variables_per_subplot=variables_per_subplot,\n",
    "    target='Exited',YNExited='Não',\n",
    "    nrows=1,\n",
    "    ncols=3,\n",
    "    figsize=(20, 6),\n",
    "    width=0.2,\n",
    "    palette='Set2',\n",
    "    name= 'outlier_nao'\n",
    ")\n",
    "\n"
   ]
  },
  {
   "cell_type": "markdown",
   "metadata": {},
   "source": [
    "Podemos observar que para boa parte dos variáveis, não temos muitos outliers, contudo a variável **Age** é a variável que apresenta mais Outliers. Por hora, não iremos tratar os outliers, iremos treinar o modelo com esses outliers e veremos qual o comportamento do modelo para esses outliers, podemos voltar aqui se necessário e avaliar como o modelo fica sem os outliers.\n",
    "\n",
    "Outro ponto é que notamos é a média e a media são bastante semelhantes como já havíamos comentado, apenas a variável **Balance** que possui um ligeira diferenciação."
   ]
  },
  {
   "cell_type": "markdown",
   "metadata": {},
   "source": [
    "### 2.3 Analisando a Correlação\n",
    "\n",
    "Para podermos identificar se as variáveis podem ter correlações entre si, vamos construir o gráfico de correlação. Esta informação é importante pois pode indicar quais variáveis serão importante no treinamento do modelo."
   ]
  },
  {
   "cell_type": "code",
   "execution_count": 47,
   "metadata": {},
   "outputs": [],
   "source": [
    "df_correl = df_raw_1.replace({'Gender': {'Female': 0, 'Male': 1}, 'Geography': {'France': 0, 'Spain': 1, 'Germany': -1}}, inplace=False)\n",
    "df_correl.drop(columns=['RowNumber', 'Surname', 'CustomerId'], inplace = True)"
   ]
  },
  {
   "cell_type": "code",
   "execution_count": null,
   "metadata": {},
   "outputs": [],
   "source": [
    "# gerando uma máscara para o formato do gráfico para cobrir a diagonal superior\n",
    "mask = np.zeros_like(df_correl.corr(), dtype=np.bool)\n",
    "mask[np.triu_indices_from(mask)] = True\n",
    "\n",
    "fig = plt.figure(figsize=(15, 15))\n",
    "\n",
    "# Criando objeto com as correlações\n",
    "correl = df_correl.corr()\n",
    "\n",
    "# Plotando o gráfico\n",
    "sns.heatmap(data=correl, mask=mask, vmin=-1, vmax=1, annot=True, center=0, square=True, linewidths=0.5, cbar_kws={\"shrink\": .5})\n",
    "plt.title('análise de Correlação entre variáveis', fontsize=14, fontweight='bold')\n",
    "plt.tight_layout()\n",
    "plt.savefig(f\"./imagens/correlacao.png\")\n",
    "plt.show()"
   ]
  },
  {
   "cell_type": "markdown",
   "metadata": {},
   "source": [
    "Podemos notar que os pares de variáveis com maior correlação são:\n",
    "\n",
    "- **(Balance, Geography)**\n",
    "- **(NumOfProducts, Balance)**\n",
    "- **(Exited, Age)**\n",
    "\n",
    "É importante ressaltar que aqui não diferenciamos homens de mulheres, talvez cabe separa esses dois e ver se existe uma correlação maior se considerarmos apenas mulheres ou homens. O mesmo vale para variável **Geography**."
   ]
  },
  {
   "cell_type": "markdown",
   "metadata": {},
   "source": []
  }
 ],
 "metadata": {
  "kernelspec": {
   "display_name": "base",
   "language": "python",
   "name": "python3"
  },
  "language_info": {
   "codemirror_mode": {
    "name": "ipython",
    "version": 3
   },
   "file_extension": ".py",
   "mimetype": "text/x-python",
   "name": "python",
   "nbconvert_exporter": "python",
   "pygments_lexer": "ipython3",
   "version": "3.12.2"
  }
 },
 "nbformat": 4,
 "nbformat_minor": 2
}
